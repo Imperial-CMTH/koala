{
 "cells": [
  {
   "cell_type": "code",
   "execution_count": null,
   "metadata": {},
   "outputs": [],
   "source": [
    "%load_ext autoreload\n",
    "%autoreload 2\n"
   ]
  },
  {
   "cell_type": "markdown",
   "metadata": {},
   "source": [
    "# CW/CCW vertex colourings\n",
    "\n",
    "We are trying to look at how degenerate colourings can be described in terms of clockwise and anticlockwise colourings of the vertices. Start with a lattice"
   ]
  },
  {
   "cell_type": "code",
   "execution_count": null,
   "metadata": {},
   "outputs": [],
   "source": [
    "\n",
    "import numpy as np\n",
    "from matplotlib import pyplot as plt\n",
    "from koala.pointsets import *\n",
    "from koala.voronization import generate_lattice\n",
    "from koala import plotting as pl\n",
    "\n",
    "n_centers_along_axes = 15\n",
    "\n",
    "\n",
    "centers = generate_bluenoise(30,n_centers_along_axes,n_centers_along_axes)\n",
    "# centers = generate_random(50)\n",
    "lattice = generate_lattice(centers,shift_vertices=True)\n",
    "fig, ax = plt.subplots(1,1,figsize = (20,20))\n",
    "pl.plot_lattice(lattice, ax= ax )\n",
    "plt.show()\n",
    "lattice"
   ]
  },
  {
   "cell_type": "code",
   "execution_count": null,
   "metadata": {},
   "outputs": [],
   "source": [
    "from koala.graph_utils import clockwise_edges_about\n",
    "n_colourings_to_find = 3\n",
    "\n",
    "\n",
    "ordered_edge_indices = clockwise_edges_about(vertex_i = 0, g=lattice)\n",
    "\n",
    "from koala import graph_color\n",
    "adj = lattice.edges.indices\n",
    "a,edge_colourings = graph_color.edge_color(\n",
    "    adj,\n",
    "    n_solutions=n_colourings_to_find,\n",
    "    fixed= enumerate(ordered_edge_indices))"
   ]
  },
  {
   "cell_type": "code",
   "execution_count": null,
   "metadata": {},
   "outputs": [],
   "source": [
    "# find edge colourings\n",
    "def find_parity(input_colours):\n",
    "    p = 2 - (input_colours[2] - input_colours[0])%3 \n",
    "    return p\n",
    "\n",
    "point_colourings = edge_colourings[:,np.array(lattice.vertices.adjacent_edges)]\n",
    "vertex_colourings = np.apply_along_axis(find_parity,2,point_colourings)"
   ]
  },
  {
   "cell_type": "markdown",
   "metadata": {},
   "source": [
    "Here we can check that the vertex colouring does actually correspond to the correct orientation in terms of edge colourings"
   ]
  },
  {
   "cell_type": "code",
   "execution_count": null,
   "metadata": {},
   "outputs": [],
   "source": [
    "colouring_to_plot = 0\n",
    "\n",
    "fig, ax = plt.subplots(1,1,figsize = (10,10))\n",
    "pl.plot_lattice(\n",
    "    lattice, \n",
    "    ax= ax ,\n",
    "    edge_labels=edge_colourings[colouring_to_plot],\n",
    "    vertex_labels= vertex_colourings[colouring_to_plot], \n",
    "    edge_color_scheme=['lightgrey', 'y', 'b','lightgrey'], \n",
    "    vertex_color_scheme=['g','k'])\n",
    "plt.show()"
   ]
  },
  {
   "cell_type": "code",
   "execution_count": null,
   "metadata": {},
   "outputs": [],
   "source": [
    "comparison_index = 0\n",
    "figure_dimension = 10\n",
    "\n",
    "\n",
    "def compare_to_zero(row_to_compare):\n",
    "    reference = vertex_colourings[comparison_index]\n",
    "    row_mask = row_to_compare != reference\n",
    "    # print(row_mask)\n",
    "\n",
    "\n",
    "    return row_mask*(row_to_compare) -(1-row_mask)\n",
    "\n",
    "vertex_diff = np.apply_along_axis(compare_to_zero, 1, vertex_colourings)\n",
    "vertex_diff[0] = vertex_colourings[0]\n",
    "\n",
    "fig2, axes2 = plt.subplots(int(n_colourings_to_find/2),2,figsize = figure_dimension*(np.array([2,int(n_colourings_to_find/2)])))\n",
    "for ax in axes2.flatten():\n",
    "    ax.axes.xaxis.set_visible(False)\n",
    "    ax.axes.yaxis.set_visible(False)\n",
    "\n",
    "n = 0\n",
    "for ax, colouring in zip(axes2.flatten(), vertex_diff):\n",
    "    if n == 0:\n",
    "        pl.plot_lattice(\n",
    "        lattice, \n",
    "        ax= ax ,\n",
    "        edge_labels=edge_colourings[colouring_to_plot],\n",
    "        vertex_labels= colouring, \n",
    "        edge_color_scheme=['lightgrey', 'y', 'b','lightgrey'],\n",
    "        vertex_color_scheme=['y','k','w'])\n",
    "    else:\n",
    "        pl.plot_lattice(\n",
    "        lattice, \n",
    "        ax= ax ,\n",
    "        edge_labels=edge_colourings[colouring_to_plot],\n",
    "        vertex_labels= colouring, \n",
    "        edge_color_scheme=['lightgrey', 'y', 'b','lightgrey'], \n",
    "        vertex_color_scheme=['y','k','w'])\n",
    "    n +=1\n",
    "\n",
    "axes2[0,0].set_title('original colouring')\n"
   ]
  },
  {
   "cell_type": "code",
   "execution_count": null,
   "metadata": {},
   "outputs": [],
   "source": [
    "fig3, axes3 = plt.subplots(1,3,figsize = (30,10))\n",
    "for ax in axes3.flatten():\n",
    "    ax.axes.xaxis.set_visible(False)\n",
    "    ax.axes.yaxis.set_visible(False)\n",
    "\n",
    "number = 5\n",
    "pl.plot_lattice(\n",
    "lattice, \n",
    "ax= axes3[0] ,\n",
    "edge_labels=edge_colourings[colouring_to_plot],\n",
    "edge_color_scheme=['lightgrey', 'b', 'b','lightgrey'],\n",
    "vertex_labels= vertex_diff[number],\n",
    "vertex_color_scheme=['b', 'y', 'w'])\n",
    "\n",
    "pl.plot_lattice(\n",
    "lattice, \n",
    "ax= axes3[1] ,\n",
    "edge_labels=edge_colourings[colouring_to_plot],\n",
    "edge_color_scheme=['b', 'lightgrey', 'b','lightgrey'],\n",
    "vertex_labels= vertex_diff[number],\n",
    "vertex_color_scheme=['b', 'y', 'w'])\n",
    "\n",
    "pl.plot_lattice(\n",
    "lattice, \n",
    "ax= axes3[2] ,\n",
    "edge_labels=edge_colourings[colouring_to_plot],\n",
    "edge_color_scheme=['b', 'b', 'lightgrey','lightgrey'],\n",
    "vertex_labels= vertex_diff[number],\n",
    "vertex_color_scheme=['b', 'y', 'w'])\n"
   ]
  },
  {
   "cell_type": "code",
   "execution_count": null,
   "metadata": {},
   "outputs": [],
   "source": []
  }
 ],
 "metadata": {
  "interpreter": {
   "hash": "8c0008a63cbce5541b622949efed1339d14e23e32a2f2a739ba9033548bd2f0e"
  },
  "kernelspec": {
   "display_name": "Python 3.9.7 64-bit ('physics': conda)",
   "language": "python",
   "name": "python3"
  },
  "language_info": {
   "codemirror_mode": {
    "name": "ipython",
    "version": 3
   },
   "file_extension": ".py",
   "mimetype": "text/x-python",
   "name": "python",
   "nbconvert_exporter": "python",
   "pygments_lexer": "ipython3",
   "version": "3.9.7"
  },
  "orig_nbformat": 4
 },
 "nbformat": 4,
 "nbformat_minor": 2
}
