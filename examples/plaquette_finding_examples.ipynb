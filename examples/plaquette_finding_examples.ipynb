{
 "cells": [
  {
   "cell_type": "code",
   "execution_count": null,
   "metadata": {},
   "outputs": [],
   "source": [
    "%load_ext autoreload\n",
    "%autoreload 2\n",
    "\n",
    "import numpy as np\n",
    "from koala import pointsets\n",
    "from matplotlib import pyplot as plt\n",
    "from koala import voronization\n",
    "from koala import plotting\n",
    "from koala.lattice import Lattice"
   ]
  },
  {
   "cell_type": "code",
   "execution_count": null,
   "metadata": {},
   "outputs": [],
   "source": [
    "vertices = np.array([\n",
    "    [0.5,0.5],\n",
    "    [0.5,0.95],\n",
    "    [0.1,0.1],\n",
    "    [0.9,0.1]\n",
    "])\n",
    "edge_indices = np.array([\n",
    "    [0,1],\n",
    "    [0,2],\n",
    "    [0,3],\n",
    "    [1,2],\n",
    "    [2,3]\n",
    "])\n",
    "\n",
    "edge_crossing = np.array([\n",
    "    [0,0],\n",
    "    [0,0],\n",
    "    [0,0],\n",
    "    [0,0],\n",
    "    [0,0]\n",
    "])\n",
    "simple_lattice = Lattice(vertices,edge_indices,edge_crossing)\n",
    "\n",
    "centers = pointsets.generate_random(25)\n",
    "voronoi_lattice = voronization.generate_lattice(centers)\n",
    "\n",
    "fig1, axes1 = plt.subplots(1,2,figsize = (20,10))\n",
    "plotting.plot_lattice(simple_lattice, ax= axes1[0])\n",
    "plotting.plot_lattice(voronoi_lattice, ax= axes1[1])\n",
    "\n",
    "for ax in axes1.flatten():\n",
    "    ax.axes.xaxis.set_visible(False)\n",
    "    ax.axes.yaxis.set_visible(False)\n",
    "\n"
   ]
  },
  {
   "cell_type": "code",
   "execution_count": null,
   "metadata": {},
   "outputs": [],
   "source": [
    "num = len(simple_lattice.plaquettes)\n",
    "print(num)\n",
    "size = int(np.ceil(np.sqrt(num)))\n",
    "\n",
    "fig2, axes2 = plt.subplots(size, size,figsize = (10,10))\n",
    "\n",
    "for ax in axes2.flatten():\n",
    "    ax.axes.xaxis.set_visible(False)\n",
    "    ax.axes.yaxis.set_visible(False)\n",
    "\n",
    "for ax, current_plaquette in zip(axes2.flatten(), range(len(simple_lattice.plaquettes))):\n",
    "    edge_labels = np.zeros_like(simple_lattice.edges.indices[:,0])\n",
    "    edge_labels[np.array(simple_lattice.plaquettes[current_plaquette].edges)] = 1\n",
    "    plotting.plot_lattice(simple_lattice, ax,edge_labels,['lightgrey', 'k'])\n",
    "    ax.scatter(simple_lattice.plaquettes[current_plaquette].center[0],simple_lattice.plaquettes[current_plaquette].center[1])\n",
    "\n"
   ]
  },
  {
   "cell_type": "markdown",
   "metadata": {},
   "source": [
    "## Note that the center plotted for the exterior plaquette is wrong!!!"
   ]
  },
  {
   "cell_type": "code",
   "execution_count": null,
   "metadata": {},
   "outputs": [],
   "source": [
    "num = len(voronoi_lattice.plaquettes)\n",
    "print(num)\n",
    "size = int(np.ceil(np.sqrt(num)))\n",
    "\n",
    "fig2, axes2 = plt.subplots(size, size,figsize = (10,10))\n",
    "\n",
    "for ax in axes2.flatten():\n",
    "    ax.axes.xaxis.set_visible(False)\n",
    "    ax.axes.yaxis.set_visible(False)\n",
    "\n",
    "for ax, current_plaquette in zip(axes2.flatten(), range(len(voronoi_lattice.plaquettes))):\n",
    "    edge_labels = np.zeros_like(voronoi_lattice.edges.indices[:,0])\n",
    "    edge_labels[np.array(voronoi_lattice.plaquettes[current_plaquette].edges)] = 1\n",
    "    plotting.plot_lattice(voronoi_lattice, ax,edge_labels,['lightgrey', 'k'])\n",
    "    ax.scatter(voronoi_lattice.plaquettes[current_plaquette].center[0],voronoi_lattice.plaquettes[current_plaquette].center[1])"
   ]
  },
  {
   "cell_type": "markdown",
   "id": "d65e4dab",
   "metadata": {},
   "source": [
    "<span style=\"color:red\">**<<<<<<< local**</span>"
   ]
  },
  {
   "cell_type": "code",
   "execution_count": null,
   "metadata": {},
   "outputs": [],
   "source": [
    "current_plaquette = 10\n",
    "\n",
    "plaquette_edges = voronoi_lattice.plaquettes[current_plaquette].edges\n",
    "plaquette_vectors = voronoi_lattice.edges.vectors[plaquette_edges]*(1-2*voronoi_lattice.plaquettes[current_plaquette].directions[:,None])\n",
    "plaquette_sums = np.cumsum(plaquette_vectors, 0)\n",
    "points = voronoi_lattice.vertices.positions[voronoi_lattice.plaquettes[current_plaquette].vertices[0]]+plaquette_sums\n",
    "plaquette_center = np.sum(points, 0) / (points.shape[0])%1\n",
    "\n",
    "\n",
    "\n",
    "fig3, axes3 = plt.subplots(1,1,figsize = (10,10))\n",
    "# axes3.axes.xaxis.set_visible(False)\n",
    "# axes3.axes.yaxis.set_visible(False)\n",
    "\n",
    "edge_labels = np.zeros_like(voronoi_lattice.edges.indices[:,0])\n",
    "edge_labels[np.array(voronoi_lattice.plaquettes[current_plaquette].edges)] = 1\n",
    "plotting.plot_lattice(voronoi_lattice, axes3,edge_labels,['lightgrey', 'k'])\n",
    "axes3.scatter(points[:,0],points[:,1])\n",
    "axes3.scatter(plaquette_center[0],plaquette_center[1])"
   ]
  },
  {
   "cell_type": "markdown",
   "id": "cfb2b0b9",
   "metadata": {},
   "source": [
    "<span style=\"color:red\">**=======**</span>"
   ]
  },
  {
   "cell_type": "code",
   "execution_count": null,
   "metadata": {},
   "outputs": [],
   "source": [
    "fig, (ax, ax2) = plt.subplots(ncols = 2, figsize = (20,10))\n",
    "      \n",
    "cmap = plt.get_cmap(\"tab10\")\n",
    "plaq_labels = np.arange(voronoi_lattice.n_plaquettes)\n",
    "color_scheme = cmap(plaq_labels % 10)\n",
    "\n",
    "plotting.plot_plaquettes(voronoi_lattice, plaq_labels, color_scheme = color_scheme, ax = ax, polygon_args = dict(alpha = 0.3))\n",
    "plotting.plot_lattice(voronoi_lattice, edge_color_scheme = ['lightgrey', 'k'], ax = ax)\n",
    "\n",
    "plotting.plot_plaquettes(voronoi_lattice, plaq_labels, color_scheme = color_scheme, ax = ax2, polygon_args = dict(alpha = 0.3))\n",
    "plotting.plot_lattice(voronoi_lattice, edge_color_scheme = ['lightgrey', 'k'], ax = ax2)\n",
    "\n",
    "for i in range(2):\n",
    "    ax.axhline(y = i, linestyle = 'dotted', color = 'k')\n",
    "    ax.axvline(x = i, linestyle = 'dotted', color = 'k')\n",
    "\n",
    "s = 0.3\n",
    "ax.set(xlim = (-s,1+s), ylim = (-s,1+s))"
   ]
  },
  {
   "cell_type": "markdown",
   "id": "fdf10fdb",
   "metadata": {},
   "source": [
    "<span style=\"color:red\">**>>>>>>> remote**</span>"
   ]
  },
  {
   "cell_type": "code",
   "execution_count": null,
   "metadata": {},
   "outputs": [],
   "source": []
  }
 ],
 "metadata": {
  "interpreter": {
   "hash": "8c0008a63cbce5541b622949efed1339d14e23e32a2f2a739ba9033548bd2f0e"
  },
  "kernelspec": {
   "display_name": "Python 3 (ipykernel)",
   "language": "python",
   "name": "python3"
  },
  "language_info": {
   "codemirror_mode": {
    "name": "ipython",
    "version": 3
   },
   "file_extension": ".py",
   "mimetype": "text/x-python",
   "name": "python",
   "nbconvert_exporter": "python",
   "pygments_lexer": "ipython3",
   "version": "3.9.7"
  }
 },
 "nbformat": 4,
 "nbformat_minor": 4
}
