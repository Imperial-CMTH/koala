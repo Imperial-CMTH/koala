{
 "cells": [
  {
   "cell_type": "code",
   "execution_count": 1,
   "id": "91b53576-57aa-4fa7-bde7-3523dad5e67a",
   "metadata": {},
   "outputs": [],
   "source": [
    "%load_ext autoreload\n",
    "%autoreload 2"
   ]
  },
  {
   "cell_type": "markdown",
   "id": "4a4a33b0-cc43-45fc-98be-4437ee96705a",
   "metadata": {},
   "source": [
    "# Evaluation of finite size effects in Kitaev honeycomb\n",
    "\n",
    "Find herein a reproduction of the finite size scaling analysis carried out in Kitaev Appendix A as a sanity check for Koala."
   ]
  },
  {
   "cell_type": "markdown",
   "id": "c2f5bb62-6513-48c7-9614-c3b2aeeb8ad5",
   "metadata": {},
   "source": [
    "## Imports"
   ]
  },
  {
   "cell_type": "code",
   "execution_count": 36,
   "id": "4f303739-b429-4b26-81a9-4d6902f4574c",
   "metadata": {},
   "outputs": [],
   "source": [
    "import numpy as np\n",
    "import matplotlib\n",
    "from matplotlib import pyplot as plt\n",
    "from koala.example_graphs import generate_hex_square_oct,generate_honeycomb,generate_tri_non\n",
    "from koala.graph_color import color_lattice\n",
    "from koala.pointsets import generate_bluenoise\n",
    "from koala.voronization import generate_lattice\n",
    "from koala.graph_color import color_lattice\n",
    "from koala.plotting import plot_lattice, peru_friendly_colour_scheme\n",
    "from koala.hamiltonian import generate_majorana_hamiltonian\n",
    "import koala.plotting as pl\n",
    "\n",
    "matplotlib.rcParams.update({'font.size': 26})\n",
    "matplotlib.rcParams.update({'text.usetex': True})\n",
    "matplotlib.rc('font', **{'family': 'serif', 'serif': ['Computer Modern']})"
   ]
  },
  {
   "cell_type": "markdown",
   "id": "b7e4135f-287f-4a41-ab8e-ebce088c7898",
   "metadata": {},
   "source": [
    "## Utillities"
   ]
  },
  {
   "cell_type": "code",
   "execution_count": 37,
   "id": "497bebca-b326-4657-b625-f60423e5f107",
   "metadata": {},
   "outputs": [],
   "source": [
    "from koala.lattice import Lattice\n",
    "\n",
    "def construct_Ajk(lattice: Lattice, edge_coloring: np.ndarray, ujk: np.ndarray, J_values: np.ndarray):\n",
    "    \"\"\"Wrapper around generate_majorana_hamiltonian to generate A matrix from couplings ujk\n",
    "\n",
    "    :param lattice: system to construct the matrix on\n",
    "    :type lattice: Lattice\n",
    "    :param edge_colouring: colouring for the edges must be a set of ±1 values\n",
    "    :type edge_colouring: np.ndarray\n",
    "    :param ujk: bond signs\n",
    "    :type ujk: np.ndarray\n",
    "    :param J_values: j values\n",
    "    :type J_values: np.ndarray\n",
    "    :return: the A matrix\n",
    "    :rtype: np.ndarray\n",
    "    \"\"\"\n",
    "    ham = generate_majorana_hamiltonian(lattice, edge_coloring, ujk, J_values)\n",
    "    ham /= (1.0j / 4.0) # Go from H -> A\n",
    "    return ham\n",
    "    \n",
    "def find_ground_state_energy(lattice: Lattice, edge_colouring: np.ndarray, ujk: np.ndarray, J_values: np.ndarray):\n",
    "    \"\"\"For a given lattice and flux sector, obtain the sector energy by summing negative eigenvalues, see\n",
    "    Kitaev eqn (25)\n",
    "    \n",
    "    :param lattice: system to construct the matrix on\n",
    "    :type lattice: Lattice\n",
    "    :param edge_colouring: colouring for the edges must be a set of ±1 values\n",
    "    :type edge_colouring: np.ndarray\n",
    "    :param ujk: bond signs\n",
    "    :type ujk: np.ndarray\n",
    "    :param J_values: j values\n",
    "    :type J_values: np.ndarray\n",
    "    :return: flux sector energy\n",
    "    :rtype: float\n",
    "    \"\"\"\n",
    "    ham = construct_Ajk(lattice,edge_colouring,ujk,J_values)\n",
    "    energies = np.linalg.eigvalsh(1j*ham)\n",
    "    energy = -np.sum(np.abs(energies))/4\n",
    "    return energy"
   ]
  },
  {
   "cell_type": "markdown",
   "id": "0a980266-fd90-4f03-89b8-f984b64ee497",
   "metadata": {},
   "source": [
    "## Calculation\n",
    "\n",
    "### Gapless"
   ]
  },
  {
   "cell_type": "code",
   "execution_count": 49,
   "id": "807b3a00-382c-4cc5-ab95-8bc80cf253b1",
   "metadata": {},
   "outputs": [
    {
     "name": "stdout",
     "output_type": "stream",
     "text": [
      "Solving honeycomb with 1 horizontal plaqs\n",
      "Solving honeycomb with 2 horizontal plaqs\n",
      "Solving honeycomb with 3 horizontal plaqs\n",
      "Solving honeycomb with 4 horizontal plaqs\n",
      "Solving honeycomb with 5 horizontal plaqs\n",
      "Solving honeycomb with 6 horizontal plaqs\n",
      "Solving honeycomb with 7 horizontal plaqs\n"
     ]
    },
    {
     "name": "stderr",
     "output_type": "stream",
     "text": [
      "/tmp/ipykernel_115290/2633884816.py:10: RuntimeWarning: divide by zero encountered in double_scalars\n",
      "  energy_per_plaquette = energy / honeycomb[0].n_plaquettes\n"
     ]
    },
    {
     "name": "stdout",
     "output_type": "stream",
     "text": [
      "Solving honeycomb with 8 horizontal plaqs\n",
      "Solving honeycomb with 9 horizontal plaqs\n",
      "Solving honeycomb with 10 horizontal plaqs\n",
      "Solving honeycomb with 11 horizontal plaqs\n",
      "Solving honeycomb with 12 horizontal plaqs\n",
      "Solving honeycomb with 13 horizontal plaqs\n",
      "Solving honeycomb with 14 horizontal plaqs\n",
      "Solving honeycomb with 15 horizontal plaqs\n",
      "Solving honeycomb with 16 horizontal plaqs\n",
      "Solving honeycomb with 17 horizontal plaqs\n",
      "Solving honeycomb with 18 horizontal plaqs\n",
      "Solving honeycomb with 19 horizontal plaqs\n"
     ]
    }
   ],
   "source": [
    "J_vals = np.array([1,1,1])\n",
    "\n",
    "vals = []\n",
    "for i in range(1,20):\n",
    "    print(f\"Solving honeycomb with {i} horizontal plaqs\")\n",
    "    honeycomb = generate_honeycomb(i,True)\n",
    "    ujk = np.full(honeycomb[0].n_edges, 1)\n",
    "    Ajk = construct_Ajk(honeycomb[0], honeycomb[1], ujk, J_vals)\n",
    "    energy = find_ground_state_energy(honeycomb[0], honeycomb[1], ujk, J_vals)\n",
    "    energy_per_plaquette = energy / honeycomb[0].n_plaquettes\n",
    "    relative_energy = energy_per_plaquette + 1.5746\n",
    "    vals.append(relative_energy)"
   ]
  },
  {
   "cell_type": "code",
   "execution_count": 50,
   "id": "dee470fe-b3af-4dac-93f0-a01c1ef49712",
   "metadata": {},
   "outputs": [
    {
     "data": {
      "text/plain": [
       "Text(0.5, 0, 'System extent L')"
      ]
     },
     "execution_count": 50,
     "metadata": {},
     "output_type": "execute_result"
    },
    {
     "data": {
      "image/png": "[encoded data removed]",
      "text/plain": [
       "<Figure size 432x288 with 1 Axes>"
      ]
     },
     "metadata": {
      "needs_background": "light"
     },
     "output_type": "display_data"
    }
   ],
   "source": [
    "plt.plot(vals, 'rx--')\n",
    "plt.ylim([-0.1,0.1])\n",
    "plt.ylabel(\"Relative energy\")\n",
    "plt.xlabel(\"System extent L\")"
   ]
  },
  {
   "cell_type": "markdown",
   "id": "5ba9958f-7345-4109-9a7b-585f0033a844",
   "metadata": {},
   "source": [
    "### Gapped"
   ]
  },
  {
   "cell_type": "code",
   "execution_count": 45,
   "id": "5acf0a67-6675-4972-a293-3e8b305f30a0",
   "metadata": {},
   "outputs": [
    {
     "name": "stdout",
     "output_type": "stream",
     "text": [
      "Solving honeycomb with 1 horizontal plaqs\n",
      "Solving honeycomb with 2 horizontal plaqs\n",
      "Solving honeycomb with 3 horizontal plaqs\n",
      "Solving honeycomb with 4 horizontal plaqs\n",
      "Solving honeycomb with 5 horizontal plaqs\n",
      "Solving honeycomb with 6 horizontal plaqs\n"
     ]
    },
    {
     "name": "stderr",
     "output_type": "stream",
     "text": [
      "/tmp/ipykernel_115290/1415352629.py:10: RuntimeWarning: divide by zero encountered in double_scalars\n",
      "  energy_per_plaquette = energy / honeycomb[0].n_plaquettes\n"
     ]
    },
    {
     "name": "stdout",
     "output_type": "stream",
     "text": [
      "Solving honeycomb with 7 horizontal plaqs\n",
      "Solving honeycomb with 8 horizontal plaqs\n",
      "Solving honeycomb with 9 horizontal plaqs\n",
      "Solving honeycomb with 10 horizontal plaqs\n",
      "Solving honeycomb with 11 horizontal plaqs\n",
      "Solving honeycomb with 12 horizontal plaqs\n",
      "Solving honeycomb with 13 horizontal plaqs\n",
      "Solving honeycomb with 14 horizontal plaqs\n"
     ]
    }
   ],
   "source": [
    "J_vals = np.array([1,0.1,0.1])\n",
    "\n",
    "vals = []\n",
    "for i in range(1,15):\n",
    "    print(f\"Solving honeycomb with {i} horizontal plaqs\")\n",
    "    honeycomb = generate_honeycomb(i,True)\n",
    "    ujk = np.full(honeycomb[0].n_edges, 1)\n",
    "    Ajk = construct_Ajk(honeycomb[0], honeycomb[1], ujk, J_vals)\n",
    "    energy = find_ground_state_energy(honeycomb[0], honeycomb[1], ujk, J_vals)\n",
    "    energy_per_plaquette = energy / honeycomb[0].n_plaquettes\n",
    "    vals.append(energy_per_plaquette)"
   ]
  },
  {
   "cell_type": "code",
   "execution_count": 48,
   "id": "8bf0795a-23df-4c3c-a74a-18373a3970fd",
   "metadata": {},
   "outputs": [
    {
     "data": {
      "text/plain": [
       "Text(0.5, 0, 'System extent L')"
      ]
     },
     "execution_count": 48,
     "metadata": {},
     "output_type": "execute_result"
    },
    {
     "data": {
      "image/png": "[encoded data removed]",
      "text/plain": [
       "<Figure size 432x288 with 1 Axes>"
      ]
     },
     "metadata": {
      "needs_background": "light"
     },
     "output_type": "display_data"
    }
   ],
   "source": [
    "plt.plot(vals, 'rx--')\n",
    "plt.ylabel(\"Energy per plaquette\")\n",
    "plt.xlabel(\"System extent L\")"
   ]
  },
  {
   "cell_type": "code",
   "execution_count": null,
   "id": "3bfd1340-b8e1-40cd-97a5-0b7137cee6bf",
   "metadata": {},
   "outputs": [],
   "source": []
  }
 ],
 "metadata": {
  "kernelspec": {
   "display_name": "Python 3 (ipykernel)",
   "language": "python",
   "name": "python3"
  },
  "language_info": {
   "codemirror_mode": {
    "name": "ipython",
    "version": 3
   },
   "file_extension": ".py",
   "mimetype": "text/x-python",
   "name": "python",
   "nbconvert_exporter": "python",
   "pygments_lexer": "ipython3",
   "version": "3.8.12"
  }
 },
 "nbformat": 4,
 "nbformat_minor": 5
}
